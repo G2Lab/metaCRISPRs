{
 "cells": [
  {
   "cell_type": "code",
   "execution_count": 1,
   "id": "aed39818",
   "metadata": {},
   "outputs": [],
   "source": [
    "import pandas as pd\n",
    "import urllib3"
   ]
  },
  {
   "cell_type": "code",
   "execution_count": 3,
   "id": "6ead648d",
   "metadata": {},
   "outputs": [],
   "source": [
    "db = pd.read_csv('master_ref.csv')\n",
    "db_1 = db['ENA run']\n",
    "db_2 = db['Analysis']"
   ]
  },
  {
   "cell_type": "code",
   "execution_count": 4,
   "id": "c2cbd4e0",
   "metadata": {},
   "outputs": [
    {
     "name": "stdout",
     "output_type": "stream",
     "text": [
      "0        ERZ650208\n",
      "1        ERZ829058\n",
      "2        ERZ842402\n",
      "3        ERZ475159\n",
      "4        ERZ475168\n",
      "           ...    \n",
      "3114     ERZ839268\n",
      "3115    ERZ1756843\n",
      "3116    ERZ1741238\n",
      "3117     ERZ508528\n",
      "3118     ERZ842390\n",
      "Name: ENA run, Length: 3119, dtype: object\n"
     ]
    }
   ],
   "source": [
    "print(db_1)"
   ]
  },
  {
   "cell_type": "code",
   "execution_count": 44,
   "id": "ed46eac2",
   "metadata": {},
   "outputs": [],
   "source": [
    "a = db_1.tolist()\n",
    "b = db_2.tolist()"
   ]
  },
  {
   "cell_type": "code",
   "execution_count": 47,
   "id": "d250119a",
   "metadata": {},
   "outputs": [],
   "source": [
    "http = urllib3.PoolManager()"
   ]
  },
  {
   "cell_type": "code",
   "execution_count": null,
   "id": "43105e50",
   "metadata": {},
   "outputs": [],
   "source": [
    "count = 0\n",
    "for i in a:\n",
    "    temp = b[count]\n",
    "    print(count)\n",
    "    s = 'https://www.ebi.ac.uk/metagenomics/api/v1/analyses/'+temp+'/file/'+i+'_FASTA.fasta.gz'\n",
    "    resp = http.request(\"GET\", s)\n",
    "    if resp.status==404:\n",
    "        count+=1\n",
    "        continue\n",
    "    else:\n",
    "        count+=1\n",
    "        wget.download(s)"
   ]
  }
 ],
 "metadata": {
  "kernelspec": {
   "display_name": "Python 3 (ipykernel)",
   "language": "python",
   "name": "python3"
  },
  "language_info": {
   "codemirror_mode": {
    "name": "ipython",
    "version": 3
   },
   "file_extension": ".py",
   "mimetype": "text/x-python",
   "name": "python",
   "nbconvert_exporter": "python",
   "pygments_lexer": "ipython3",
   "version": "3.11.5"
  }
 },
 "nbformat": 4,
 "nbformat_minor": 5
}
