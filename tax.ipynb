{
 "cells": [
  {
   "cell_type": "code",
   "execution_count": 4,
   "id": "800433b5",
   "metadata": {},
   "outputs": [],
   "source": [
    "import pandas as pd\n",
    "import wget\n",
    "import urllib3"
   ]
  },
  {
   "cell_type": "code",
   "execution_count": null,
   "id": "11c8e756",
   "metadata": {},
   "outputs": [],
   "source": [
    "db = pd.read_csv('master_ref.csv')\n",
    "db_1 = db['ENA run']\n",
    "db_2 = db['Analysis']\n",
    "a = db_1.tolist()\n",
    "b = db_2.tolist()\n",
    "http = urllib3.PoolManager()\n",
    "\n",
    "print(a)\n",
    "print(b)"
   ]
  },
  {
   "cell_type": "code",
   "execution_count": null,
   "id": "2fe452dc",
   "metadata": {},
   "outputs": [],
   "source": [
    "count = 0\n",
    "for i in a:\n",
    "    temp = b[count]\n",
    "    print(count)\n",
    "    #s = 'https://www.ebi.ac.uk/metagenomics/api/v1/analyses/'+temp+'/file/'+i+'_FASTA_SSU_OTU_TABLE_JSON.biom'\n",
    "    s = 'https://www.ebi.ac.uk/metagenomics/api/v1/analyses/'+temp+'/file/'+i+'_FASTA_SSU_OTU_TABLE_HDF5.biom'\n",
    "    resp = http.request(\"GET\", s)\n",
    "    print(resp.status)\n",
    "    if resp.status!=200:\n",
    "        count+=1\n",
    "        continue\n",
    "    else:\n",
    "        count+=1\n",
    "        wget.download(s)"
   ]
  }
 ],
 "metadata": {
  "kernelspec": {
   "display_name": "Python 3 (ipykernel)",
   "language": "python",
   "name": "python3"
  },
  "language_info": {
   "codemirror_mode": {
    "name": "ipython",
    "version": 3
   },
   "file_extension": ".py",
   "mimetype": "text/x-python",
   "name": "python",
   "nbconvert_exporter": "python",
   "pygments_lexer": "ipython3",
   "version": "3.11.5"
  }
 },
 "nbformat": 4,
 "nbformat_minor": 5
}
