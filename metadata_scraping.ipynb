{
 "cells": [
  {
   "cell_type": "code",
   "execution_count": 1,
   "id": "7c59f435",
   "metadata": {},
   "outputs": [],
   "source": [
    "from bs4 import BeautifulSoup\n",
    "import requests\n",
    "import pandas as pd\n",
    "import csv\n",
    "import concurrent.futures\n"
   ]
  },
  {
   "cell_type": "code",
   "execution_count": 2,
   "id": "5e8c7ca3",
   "metadata": {},
   "outputs": [
    {
     "data": {
      "text/plain": [
       "0        3300026111\n",
       "1        3300064906\n",
       "2        3300000615\n",
       "3        3300003789\n",
       "4        3300038838\n",
       "            ...    \n",
       "20944    3300042066\n",
       "20945    3300002188\n",
       "20946    3300011176\n",
       "20947    3300002795\n",
       "20948    3300033098\n",
       "Name: taxon_oid, Length: 20949, dtype: int64"
      ]
     },
     "execution_count": 2,
     "metadata": {},
     "output_type": "execute_result"
    }
   ],
   "source": [
    "organisms = pd.read_csv('orgs.txt', sep = '\\t')\n",
    "taxon_ids = organisms['taxon_oid']\n",
    "taxon_ids"
   ]
  },
  {
   "cell_type": "code",
   "execution_count": 4,
   "id": "d8212d65",
   "metadata": {},
   "outputs": [],
   "source": [
    "import concurrent.futures\n",
    "from bs4 import BeautifulSoup\n",
    "import requests\n",
    "\n",
    "session = requests.Session()\n",
    "\n",
    "def scrape_project_batch(taxon_ids):\n",
    "    results = []\n",
    "    with concurrent.futures.ThreadPoolExecutor() as executor:\n",
    "        futures = [executor.submit(scrape_project, id_) for id_ in taxon_ids]\n",
    "        for future in concurrent.futures.as_completed(futures):\n",
    "            try:\n",
    "                result = future.result()\n",
    "                results.append(result)\n",
    "            except Exception as e:\n",
    "                print(f\"Error: {e}\")\n",
    "                # create list of error taxon_ids instead\n",
    "    return results\n",
    "\n",
    "def scrape_project(id_):\n",
    "    url = 'https://img.jgi.doe.gov/cgi-bin/m/main.cgi?section=TaxonDetail&page=taxonDetail&taxon_oid={}'.format(id_)\n",
    "    response = session.get(url)\n",
    "    soup = BeautifulSoup(response.text, 'html.parser')\n",
    "\n",
    "    if header:\n",
    "        headings = soup.find_all('th', class_='subhead')\n",
    "        features = [heading.get_text() for heading in headings if heading.get_text() != 'Sample Information']\n",
    "\n",
    "    row_data = {}\n",
    "    rows = soup.find_all('tr', class_='img')\n",
    "    for row in rows:\n",
    "        column = row.find('th', class_='subhead')\n",
    "        if column is not None:\n",
    "            header_text = column.get_text()\n",
    "            row_data[header_text] = row.find('td', class_='img').get_text()\n",
    "\n",
    "    return row_data\n",
    "\n",
    "header = True \n",
    "data = scrape_project_batch(taxon_ids)"
   ]
  },
  {
   "cell_type": "code",
   "execution_count": 5,
   "id": "596f969a",
   "metadata": {},
   "outputs": [],
   "source": [
    "df = pd.DataFrame(data)\n",
    "pd.DataFrame.to_csv(df, 'metadata.csv', index=False)"
   ]
  }
 ],
 "metadata": {
  "kernelspec": {
   "display_name": "Python 3",
   "language": "python",
   "name": "python3"
  },
  "language_info": {
   "codemirror_mode": {
    "name": "ipython",
    "version": 3
   },
   "file_extension": ".py",
   "mimetype": "text/x-python",
   "name": "python",
   "nbconvert_exporter": "python",
   "pygments_lexer": "ipython3",
   "version": "3.11.5"
  }
 },
 "nbformat": 4,
 "nbformat_minor": 5
}
